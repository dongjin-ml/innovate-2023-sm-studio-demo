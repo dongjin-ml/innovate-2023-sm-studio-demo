{
 "cells": [
  {
   "cell_type": "markdown",
   "id": "7d21dcbf",
   "metadata": {},
   "source": [
    "# 빌트인 데이터 준비 기능 \n",
    "\n",
    "* 참고자료: https://aws.amazon.com/ko/blogs/aws/next-generation-sagemaker-notebooks-now-with-built-in-data-preparation-real-time-collaboration-and-notebook-automation/\n",
    "* dataset: https://www.kaggle.com/datasets/nicapotato/womens-ecommerce-clothing-reviews?resource=download\n"
   ]
  },
  {
   "cell_type": "markdown",
   "id": "8bbc9a1a",
   "metadata": {},
   "source": [
    "## Install or Upgrade Packages"
   ]
  },
  {
   "cell_type": "code",
   "execution_count": 10,
   "id": "92d9a67c",
   "metadata": {
    "tags": []
   },
   "outputs": [
    {
     "name": "stdout",
     "output_type": "stream",
     "text": [
      "Requirement already satisfied: sagemaker in /opt/conda/lib/python3.7/site-packages (2.127.0)\n",
      "Requirement already satisfied: packaging>=20.0 in /opt/conda/lib/python3.7/site-packages (from sagemaker) (22.0)\n",
      "Requirement already satisfied: protobuf3-to-dict<1.0,>=0.1.5 in /opt/conda/lib/python3.7/site-packages (from sagemaker) (0.1.5)\n",
      "Requirement already satisfied: google-pasta in /opt/conda/lib/python3.7/site-packages (from sagemaker) (0.2.0)\n",
      "Requirement already satisfied: smdebug-rulesconfig==1.0.1 in /opt/conda/lib/python3.7/site-packages (from sagemaker) (1.0.1)\n",
      "Requirement already satisfied: pathos in /opt/conda/lib/python3.7/site-packages (from sagemaker) (0.3.0)\n",
      "Requirement already satisfied: pandas in /opt/conda/lib/python3.7/site-packages (from sagemaker) (1.3.5)\n",
      "Requirement already satisfied: protobuf<4.0,>=3.1 in /opt/conda/lib/python3.7/site-packages (from sagemaker) (3.20.3)\n",
      "Requirement already satisfied: attrs<23,>=20.3.0 in /opt/conda/lib/python3.7/site-packages (from sagemaker) (22.1.0)\n",
      "Requirement already satisfied: schema in /opt/conda/lib/python3.7/site-packages (from sagemaker) (0.7.5)\n",
      "Requirement already satisfied: numpy<2.0,>=1.9.0 in /opt/conda/lib/python3.7/site-packages (from sagemaker) (1.21.6)\n",
      "Requirement already satisfied: importlib-metadata<5.0,>=1.4.0 in /opt/conda/lib/python3.7/site-packages (from sagemaker) (4.13.0)\n",
      "Requirement already satisfied: boto3<2.0,>=1.26.28 in /opt/conda/lib/python3.7/site-packages (from sagemaker) (1.26.42)\n",
      "Requirement already satisfied: s3transfer<0.7.0,>=0.6.0 in /opt/conda/lib/python3.7/site-packages (from boto3<2.0,>=1.26.28->sagemaker) (0.6.0)\n",
      "Requirement already satisfied: jmespath<2.0.0,>=0.7.1 in /opt/conda/lib/python3.7/site-packages (from boto3<2.0,>=1.26.28->sagemaker) (1.0.1)\n",
      "Requirement already satisfied: botocore<1.30.0,>=1.29.42 in /opt/conda/lib/python3.7/site-packages (from boto3<2.0,>=1.26.28->sagemaker) (1.29.42)\n",
      "Requirement already satisfied: typing-extensions>=3.6.4 in /opt/conda/lib/python3.7/site-packages (from importlib-metadata<5.0,>=1.4.0->sagemaker) (4.4.0)\n",
      "Requirement already satisfied: zipp>=0.5 in /opt/conda/lib/python3.7/site-packages (from importlib-metadata<5.0,>=1.4.0->sagemaker) (3.11.0)\n",
      "Requirement already satisfied: six in /opt/conda/lib/python3.7/site-packages (from protobuf3-to-dict<1.0,>=0.1.5->sagemaker) (1.14.0)\n",
      "Requirement already satisfied: pytz>=2017.3 in /opt/conda/lib/python3.7/site-packages (from pandas->sagemaker) (2019.3)\n",
      "Requirement already satisfied: python-dateutil>=2.7.3 in /opt/conda/lib/python3.7/site-packages (from pandas->sagemaker) (2.8.2)\n",
      "Requirement already satisfied: multiprocess>=0.70.14 in /opt/conda/lib/python3.7/site-packages (from pathos->sagemaker) (0.70.14)\n",
      "Requirement already satisfied: dill>=0.3.6 in /opt/conda/lib/python3.7/site-packages (from pathos->sagemaker) (0.3.6)\n",
      "Requirement already satisfied: pox>=0.3.2 in /opt/conda/lib/python3.7/site-packages (from pathos->sagemaker) (0.3.2)\n",
      "Requirement already satisfied: ppft>=1.7.6.6 in /opt/conda/lib/python3.7/site-packages (from pathos->sagemaker) (1.7.6.6)\n",
      "Requirement already satisfied: contextlib2>=0.5.5 in /opt/conda/lib/python3.7/site-packages (from schema->sagemaker) (0.6.0.post1)\n",
      "Requirement already satisfied: urllib3<1.27,>=1.25.4 in /opt/conda/lib/python3.7/site-packages (from botocore<1.30.0,>=1.29.42->boto3<2.0,>=1.26.28->sagemaker) (1.26.13)\n",
      "\u001b[33mWARNING: Running pip as the 'root' user can result in broken permissions and conflicting behaviour with the system package manager. It is recommended to use a virtual environment instead: https://pip.pypa.io/warnings/venv\u001b[0m\u001b[33m\n",
      "\u001b[0mRequirement already satisfied: jupyterlab==3 in /opt/conda/lib/python3.7/site-packages (3.0.0)\n",
      "Requirement already satisfied: packaging in /opt/conda/lib/python3.7/site-packages (from jupyterlab==3) (22.0)\n",
      "Requirement already satisfied: nbclassic~=0.2 in /opt/conda/lib/python3.7/site-packages (from jupyterlab==3) (0.4.8)\n",
      "Requirement already satisfied: jupyter-core in /opt/conda/lib/python3.7/site-packages (from jupyterlab==3) (4.12.0)\n",
      "Requirement already satisfied: tornado>=6.1.0 in /opt/conda/lib/python3.7/site-packages (from jupyterlab==3) (6.2)\n",
      "Requirement already satisfied: jupyter-server~=1.1 in /opt/conda/lib/python3.7/site-packages (from jupyterlab==3) (1.23.3)\n",
      "Requirement already satisfied: jinja2>=2.10 in /opt/conda/lib/python3.7/site-packages (from jupyterlab==3) (3.1.2)\n",
      "Requirement already satisfied: ipython in /opt/conda/lib/python3.7/site-packages (from jupyterlab==3) (7.34.0)\n",
      "Requirement already satisfied: jupyterlab-server~=2.0 in /opt/conda/lib/python3.7/site-packages (from jupyterlab==3) (2.18.0)\n",
      "Requirement already satisfied: MarkupSafe>=2.0 in /opt/conda/lib/python3.7/site-packages (from jinja2>=2.10->jupyterlab==3) (2.1.1)\n",
      "Requirement already satisfied: jupyter-client>=6.1.12 in /opt/conda/lib/python3.7/site-packages (from jupyter-server~=1.1->jupyterlab==3) (7.4.8)\n",
      "Requirement already satisfied: websocket-client in /opt/conda/lib/python3.7/site-packages (from jupyter-server~=1.1->jupyterlab==3) (0.59.0)\n",
      "Requirement already satisfied: nbconvert>=6.4.4 in /opt/conda/lib/python3.7/site-packages (from jupyter-server~=1.1->jupyterlab==3) (6.5.4)\n",
      "Requirement already satisfied: traitlets>=5.1 in /opt/conda/lib/python3.7/site-packages (from jupyter-server~=1.1->jupyterlab==3) (5.6.0)\n",
      "Requirement already satisfied: anyio<4,>=3.1.0 in /opt/conda/lib/python3.7/site-packages (from jupyter-server~=1.1->jupyterlab==3) (3.6.2)\n",
      "Requirement already satisfied: Send2Trash in /opt/conda/lib/python3.7/site-packages (from jupyter-server~=1.1->jupyterlab==3) (1.8.0)\n",
      "Requirement already satisfied: terminado>=0.8.3 in /opt/conda/lib/python3.7/site-packages (from jupyter-server~=1.1->jupyterlab==3) (0.8.3)\n",
      "Requirement already satisfied: prometheus-client in /opt/conda/lib/python3.7/site-packages (from jupyter-server~=1.1->jupyterlab==3) (0.7.1)\n",
      "Requirement already satisfied: argon2-cffi in /opt/conda/lib/python3.7/site-packages (from jupyter-server~=1.1->jupyterlab==3) (21.3.0)\n",
      "Requirement already satisfied: nbformat>=5.2.0 in /opt/conda/lib/python3.7/site-packages (from jupyter-server~=1.1->jupyterlab==3) (5.7.0)\n",
      "Requirement already satisfied: pyzmq>=17 in /opt/conda/lib/python3.7/site-packages (from jupyter-server~=1.1->jupyterlab==3) (24.0.1)\n",
      "Requirement already satisfied: jsonschema>=4.17.3 in /opt/conda/lib/python3.7/site-packages (from jupyterlab-server~=2.0->jupyterlab==3) (4.17.3)\n",
      "Requirement already satisfied: importlib-metadata>=4.8.3 in /opt/conda/lib/python3.7/site-packages (from jupyterlab-server~=2.0->jupyterlab==3) (4.13.0)\n",
      "Requirement already satisfied: babel>=2.10 in /opt/conda/lib/python3.7/site-packages (from jupyterlab-server~=2.0->jupyterlab==3) (2.11.0)\n",
      "Requirement already satisfied: requests>=2.28 in /opt/conda/lib/python3.7/site-packages (from jupyterlab-server~=2.0->jupyterlab==3) (2.28.1)\n",
      "Requirement already satisfied: json5>=0.9.0 in /opt/conda/lib/python3.7/site-packages (from jupyterlab-server~=2.0->jupyterlab==3) (0.9.1)\n",
      "Requirement already satisfied: nest-asyncio>=1.5 in /opt/conda/lib/python3.7/site-packages (from nbclassic~=0.2->jupyterlab==3) (1.5.6)\n",
      "Requirement already satisfied: ipykernel in /opt/conda/lib/python3.7/site-packages (from nbclassic~=0.2->jupyterlab==3) (5.1.4)\n",
      "Requirement already satisfied: ipython-genutils in /opt/conda/lib/python3.7/site-packages (from nbclassic~=0.2->jupyterlab==3) (0.2.0)\n",
      "Requirement already satisfied: notebook-shim>=0.1.0 in /opt/conda/lib/python3.7/site-packages (from nbclassic~=0.2->jupyterlab==3) (0.2.2)\n",
      "Requirement already satisfied: matplotlib-inline in /opt/conda/lib/python3.7/site-packages (from ipython->jupyterlab==3) (0.1.6)\n",
      "Requirement already satisfied: pickleshare in /opt/conda/lib/python3.7/site-packages (from ipython->jupyterlab==3) (0.7.5)\n",
      "Requirement already satisfied: prompt-toolkit!=3.0.0,!=3.0.1,<3.1.0,>=2.0.0 in /opt/conda/lib/python3.7/site-packages (from ipython->jupyterlab==3) (3.0.3)\n",
      "Requirement already satisfied: pygments in /opt/conda/lib/python3.7/site-packages (from ipython->jupyterlab==3) (2.13.0)\n",
      "Requirement already satisfied: pexpect>4.3 in /opt/conda/lib/python3.7/site-packages (from ipython->jupyterlab==3) (4.8.0)\n",
      "Requirement already satisfied: jedi>=0.16 in /opt/conda/lib/python3.7/site-packages (from ipython->jupyterlab==3) (0.18.2)\n",
      "Requirement already satisfied: decorator in /opt/conda/lib/python3.7/site-packages (from ipython->jupyterlab==3) (4.4.1)\n",
      "Requirement already satisfied: setuptools>=18.5 in /opt/conda/lib/python3.7/site-packages (from ipython->jupyterlab==3) (59.3.0)\n",
      "Requirement already satisfied: backcall in /opt/conda/lib/python3.7/site-packages (from ipython->jupyterlab==3) (0.1.0)\n",
      "Requirement already satisfied: sniffio>=1.1 in /opt/conda/lib/python3.7/site-packages (from anyio<4,>=3.1.0->jupyter-server~=1.1->jupyterlab==3) (1.3.0)\n",
      "Requirement already satisfied: typing-extensions in /opt/conda/lib/python3.7/site-packages (from anyio<4,>=3.1.0->jupyter-server~=1.1->jupyterlab==3) (4.4.0)\n",
      "Requirement already satisfied: idna>=2.8 in /opt/conda/lib/python3.7/site-packages (from anyio<4,>=3.1.0->jupyter-server~=1.1->jupyterlab==3) (2.8)\n",
      "Requirement already satisfied: pytz>=2015.7 in /opt/conda/lib/python3.7/site-packages (from babel>=2.10->jupyterlab-server~=2.0->jupyterlab==3) (2019.3)\n",
      "Requirement already satisfied: zipp>=0.5 in /opt/conda/lib/python3.7/site-packages (from importlib-metadata>=4.8.3->jupyterlab-server~=2.0->jupyterlab==3) (3.11.0)\n",
      "Requirement already satisfied: parso<0.9.0,>=0.8.0 in /opt/conda/lib/python3.7/site-packages (from jedi>=0.16->ipython->jupyterlab==3) (0.8.3)\n",
      "Requirement already satisfied: importlib-resources>=1.4.0 in /opt/conda/lib/python3.7/site-packages (from jsonschema>=4.17.3->jupyterlab-server~=2.0->jupyterlab==3) (5.10.2)\n",
      "Requirement already satisfied: pkgutil-resolve-name>=1.3.10 in /opt/conda/lib/python3.7/site-packages (from jsonschema>=4.17.3->jupyterlab-server~=2.0->jupyterlab==3) (1.3.10)\n",
      "Requirement already satisfied: attrs>=17.4.0 in /opt/conda/lib/python3.7/site-packages (from jsonschema>=4.17.3->jupyterlab-server~=2.0->jupyterlab==3) (22.1.0)\n",
      "Requirement already satisfied: pyrsistent!=0.17.0,!=0.17.1,!=0.17.2,>=0.14.0 in /opt/conda/lib/python3.7/site-packages (from jsonschema>=4.17.3->jupyterlab-server~=2.0->jupyterlab==3) (0.15.7)\n",
      "Requirement already satisfied: python-dateutil>=2.8.2 in /opt/conda/lib/python3.7/site-packages (from jupyter-client>=6.1.12->jupyter-server~=1.1->jupyterlab==3) (2.8.2)\n",
      "Requirement already satisfied: entrypoints in /opt/conda/lib/python3.7/site-packages (from jupyter-client>=6.1.12->jupyter-server~=1.1->jupyterlab==3) (0.3)\n",
      "Requirement already satisfied: beautifulsoup4 in /opt/conda/lib/python3.7/site-packages (from nbconvert>=6.4.4->jupyter-server~=1.1->jupyterlab==3) (4.8.2)\n",
      "Requirement already satisfied: bleach in /opt/conda/lib/python3.7/site-packages (from nbconvert>=6.4.4->jupyter-server~=1.1->jupyterlab==3) (5.0.1)\n",
      "Requirement already satisfied: pandocfilters>=1.4.1 in /opt/conda/lib/python3.7/site-packages (from nbconvert>=6.4.4->jupyter-server~=1.1->jupyterlab==3) (1.4.2)\n",
      "Requirement already satisfied: defusedxml in /opt/conda/lib/python3.7/site-packages (from nbconvert>=6.4.4->jupyter-server~=1.1->jupyterlab==3) (0.6.0)\n",
      "Requirement already satisfied: lxml in /opt/conda/lib/python3.7/site-packages (from nbconvert>=6.4.4->jupyter-server~=1.1->jupyterlab==3) (4.9.1)\n",
      "Requirement already satisfied: nbclient>=0.5.0 in /opt/conda/lib/python3.7/site-packages (from nbconvert>=6.4.4->jupyter-server~=1.1->jupyterlab==3) (0.7.2)\n",
      "Requirement already satisfied: tinycss2 in /opt/conda/lib/python3.7/site-packages (from nbconvert>=6.4.4->jupyter-server~=1.1->jupyterlab==3) (1.2.1)\n",
      "Requirement already satisfied: jupyterlab-pygments in /opt/conda/lib/python3.7/site-packages (from nbconvert>=6.4.4->jupyter-server~=1.1->jupyterlab==3) (0.2.2)\n",
      "Requirement already satisfied: mistune<2,>=0.8.1 in /opt/conda/lib/python3.7/site-packages (from nbconvert>=6.4.4->jupyter-server~=1.1->jupyterlab==3) (0.8.4)\n",
      "Requirement already satisfied: fastjsonschema in /opt/conda/lib/python3.7/site-packages (from nbformat>=5.2.0->jupyter-server~=1.1->jupyterlab==3) (2.16.2)\n",
      "Requirement already satisfied: ptyprocess>=0.5 in /opt/conda/lib/python3.7/site-packages (from pexpect>4.3->ipython->jupyterlab==3) (0.6.0)\n",
      "Requirement already satisfied: wcwidth in /opt/conda/lib/python3.7/site-packages (from prompt-toolkit!=3.0.0,!=3.0.1,<3.1.0,>=2.0.0->ipython->jupyterlab==3) (0.1.8)\n",
      "Requirement already satisfied: urllib3<1.27,>=1.21.1 in /opt/conda/lib/python3.7/site-packages (from requests>=2.28->jupyterlab-server~=2.0->jupyterlab==3) (1.26.13)\n",
      "Requirement already satisfied: certifi>=2017.4.17 in /opt/conda/lib/python3.7/site-packages (from requests>=2.28->jupyterlab-server~=2.0->jupyterlab==3) (2022.9.24)\n",
      "Requirement already satisfied: charset-normalizer<3,>=2 in /opt/conda/lib/python3.7/site-packages (from requests>=2.28->jupyterlab-server~=2.0->jupyterlab==3) (2.0.4)\n",
      "Requirement already satisfied: argon2-cffi-bindings in /opt/conda/lib/python3.7/site-packages (from argon2-cffi->jupyter-server~=1.1->jupyterlab==3) (21.2.0)\n",
      "Requirement already satisfied: six in /opt/conda/lib/python3.7/site-packages (from websocket-client->jupyter-server~=1.1->jupyterlab==3) (1.14.0)\n",
      "Requirement already satisfied: cffi>=1.0.1 in /opt/conda/lib/python3.7/site-packages (from argon2-cffi-bindings->argon2-cffi->jupyter-server~=1.1->jupyterlab==3) (1.15.0)\n",
      "Requirement already satisfied: soupsieve>=1.2 in /opt/conda/lib/python3.7/site-packages (from beautifulsoup4->nbconvert>=6.4.4->jupyter-server~=1.1->jupyterlab==3) (1.9.5)\n",
      "Requirement already satisfied: webencodings in /opt/conda/lib/python3.7/site-packages (from bleach->nbconvert>=6.4.4->jupyter-server~=1.1->jupyterlab==3) (0.5.1)\n",
      "Requirement already satisfied: pycparser in /opt/conda/lib/python3.7/site-packages (from cffi>=1.0.1->argon2-cffi-bindings->argon2-cffi->jupyter-server~=1.1->jupyterlab==3) (2.19)\n",
      "\u001b[33mWARNING: Running pip as the 'root' user can result in broken permissions and conflicting behaviour with the system package manager. It is recommended to use a virtual environment instead: https://pip.pypa.io/warnings/venv\u001b[0m\u001b[33m\n",
      "\u001b[0m"
     ]
    }
   ],
   "source": [
    "# Install Reinvent Wheels\n",
    "! pip install --upgrade sagemaker\n",
    "! pip install jupyterlab==3"
   ]
  },
  {
   "cell_type": "markdown",
   "id": "1d570cb6-022f-4a67-a6dc-ddb7d84424f8",
   "metadata": {},
   "source": [
    "## 데이터 s3 업로드"
   ]
  },
  {
   "cell_type": "code",
   "execution_count": 3,
   "id": "08b9fe30-3d42-401e-a420-c9d6eb39fd54",
   "metadata": {},
   "outputs": [
    {
     "name": "stdout",
     "output_type": "stream",
     "text": [
      "upload: ./Womens Clothing E-Commerce Reviews.csv to s3://kaggle-dataset-innovate-demo/Womens Clothing E-Commerce Reviews.csv\n"
     ]
    }
   ],
   "source": [
    "! aws s3 cp 'Womens Clothing E-Commerce Reviews.csv' s3://'kaggle-dataset-innovate-demo'  "
   ]
  },
  {
   "cell_type": "markdown",
   "id": "07ca4215",
   "metadata": {
    "tags": []
   },
   "source": [
    "## 데이터 읽기\n"
   ]
  },
  {
   "cell_type": "code",
   "execution_count": 11,
   "id": "56c5de39-5c7d-4169-9352-7b9cd694c2f0",
   "metadata": {
    "tags": []
   },
   "outputs": [],
   "source": [
    "import pandas as pd"
   ]
  },
  {
   "cell_type": "code",
   "execution_count": 12,
   "id": "9a5f2186-2756-4746-8c79-deca1ab8f2d5",
   "metadata": {
    "tags": []
   },
   "outputs": [],
   "source": [
    "df = pd.read_csv(\"Womens Clothing E-Commerce Reviews.csv\")"
   ]
  },
  {
   "cell_type": "markdown",
   "id": "d7cb9537-12fe-4692-83c6-1165bdb9740d",
   "metadata": {
    "tags": []
   },
   "source": [
    "## 데이터 샘플링"
   ]
  },
  {
   "cell_type": "code",
   "execution_count": 13,
   "id": "08caa2a1-ec3a-494b-b7ba-231ec51730fe",
   "metadata": {
    "tags": []
   },
   "outputs": [],
   "source": [
    "sample_rate = 0.2"
   ]
  },
  {
   "cell_type": "code",
   "execution_count": 14,
   "id": "1652faf3-4c74-4d24-81ce-5be6a2f2a070",
   "metadata": {
    "tags": []
   },
   "outputs": [],
   "source": [
    "df = df.sample(frac=sample_rate)"
   ]
  },
  {
   "cell_type": "markdown",
   "id": "d7d675ad-3662-4cda-98b7-5e79bba2c330",
   "metadata": {
    "jupyter": {
     "source_hidden": true
    },
    "tags": []
   },
   "source": [
    "## 데이터 탐색 (기존 방법)"
   ]
  },
  {
   "cell_type": "markdown",
   "id": "59c9c283-64a6-408a-9de9-d66f95834908",
   "metadata": {
    "jupyter": {
     "source_hidden": true
    },
    "tags": []
   },
   "source": [
    "* 데이터 확인"
   ]
  },
  {
   "cell_type": "code",
   "execution_count": null,
   "id": "1ce62ec0-c2bb-4fc5-9f43-ed1c4cc240f5",
   "metadata": {
    "jupyter": {
     "source_hidden": true
    },
    "tags": []
   },
   "outputs": [],
   "source": [
    "df"
   ]
  },
  {
   "cell_type": "markdown",
   "id": "1b375f20-f7c1-4980-a5e7-59cea55b5e1a",
   "metadata": {
    "jupyter": {
     "source_hidden": true
    },
    "tags": []
   },
   "source": [
    "* 히스토그램 "
   ]
  },
  {
   "cell_type": "code",
   "execution_count": null,
   "id": "19e71b46-77ee-4c72-b346-a96a204e8328",
   "metadata": {
    "jupyter": {
     "source_hidden": true
    },
    "tags": []
   },
   "outputs": [],
   "source": [
    "import numpy as np\n",
    "import matplotlib.pyplot as plt # plotting"
   ]
  },
  {
   "cell_type": "code",
   "execution_count": null,
   "id": "7917954b-1a43-4793-be3a-b03985e422d9",
   "metadata": {
    "jupyter": {
     "source_hidden": true
    },
    "tags": []
   },
   "outputs": [],
   "source": [
    "# Distribution graphs (histogram/bar graph) of column data\n",
    "def plotPerColumnDistribution(df, nGraphShown, nGraphPerRow):\n",
    "    nunique = df.nunique()\n",
    "    df = df[[col for col in df if nunique[col] > 1 and nunique[col] < 50]] # For displaying purposes, pick columns that have between 1 and 50 unique values\n",
    "    nRow, nCol = df.shape\n",
    "    columnNames = list(df)\n",
    "    nGraphRow = (nCol + nGraphPerRow - 1) / nGraphPerRow\n",
    "    plt.figure(num = None, figsize = (6 * nGraphPerRow, 8 * nGraphRow), dpi = 80, facecolor = 'w', edgecolor = 'k')\n",
    "    for i in range(min(nCol, nGraphShown)):\n",
    "        plt.subplot(nGraphRow, nGraphPerRow, i + 1)\n",
    "        columnDf = df.iloc[:, i]\n",
    "        if (not np.issubdtype(type(columnDf.iloc[0]), np.number)):\n",
    "            valueCounts = columnDf.value_counts()\n",
    "            valueCounts.plot.bar()\n",
    "        else:\n",
    "            columnDf.hist()\n",
    "        plt.ylabel('counts')\n",
    "        plt.xticks(rotation = 90)\n",
    "        plt.title(f'{columnNames[i]} (column {i})')\n",
    "    plt.tight_layout(pad = 1.0, w_pad = 1.0, h_pad = 1.0)\n",
    "    plt.show()\n",
    "\n",
    "plotPerColumnDistribution(df, 10, 5)"
   ]
  },
  {
   "cell_type": "markdown",
   "id": "bc1fdbb3-90c7-4f1f-80a7-839436ad4b43",
   "metadata": {
    "jupyter": {
     "source_hidden": true
    },
    "tags": []
   },
   "source": [
    "* 데이터 전처리"
   ]
  },
  {
   "cell_type": "code",
   "execution_count": null,
   "id": "ff1c9b9a-408f-4b8a-b0e4-ca17039b1250",
   "metadata": {
    "jupyter": {
     "source_hidden": true
    },
    "tags": []
   },
   "outputs": [],
   "source": [
    "df = df.drop(columns=['Unnamed: 0'])"
   ]
  },
  {
   "cell_type": "code",
   "execution_count": null,
   "id": "c006ff9c-164c-48bd-8ecc-e4e89b7ee24d",
   "metadata": {
    "jupyter": {
     "source_hidden": true
    },
    "tags": []
   },
   "outputs": [],
   "source": [
    "df"
   ]
  },
  {
   "cell_type": "markdown",
   "id": "e64591ff-53eb-4f10-bae0-eea486dbb7bb",
   "metadata": {},
   "source": [
    "## 데이터 탐색 (빌트인 데이터 준비 기능 활용)"
   ]
  },
  {
   "cell_type": "code",
   "execution_count": 15,
   "id": "e1e8ceab-de00-425e-ac61-d16b55d14bd3",
   "metadata": {
    "tags": []
   },
   "outputs": [],
   "source": [
    "import sagemaker_datawrangler"
   ]
  },
  {
   "cell_type": "code",
   "execution_count": null,
   "id": "71a6e995-7557-4618-9591-8ada1b9357a7",
   "metadata": {
    "jupyter": {
     "source_hidden": true
    },
    "tags": []
   },
   "outputs": [],
   "source": [
    "df = pd.read_csv(\"Womens Clothing E-Commerce Reviews.csv\")\n",
    "df = df.sample(frac=sample_rate)"
   ]
  },
  {
   "cell_type": "markdown",
   "id": "50f9eb8f-ee46-4731-82aa-4c35283abac5",
   "metadata": {},
   "source": [
    "* 데이터 확인"
   ]
  },
  {
   "cell_type": "code",
   "execution_count": 16,
   "id": "538e9ace-c4d8-4497-9c4c-e8b3e214ed5b",
   "metadata": {
    "tags": []
   },
   "outputs": [
    {
     "data": {
      "application/vnd.jupyter.widget-view+json": {
       "model_id": "233d93c7da684095bde73f3d0f7b42aa"
      },
      "text/plain": [
       "       Unnamed: 0  Clothing ID  Age  \\\n",
       "16605       16605         1001   46   \n",
       "8123         8123          833   48   \n",
       "12894       12894          863   44   \n",
       "18630       18630          975   48   \n",
       "7027         7027          862   69   \n",
       "...           ...          ...  ...   \n",
       "12658       12658          875   44   \n",
       "14099       14099          686   28   \n",
       "256           256          840   44   \n",
       "17923       17923          936   31   \n",
       "11661       11661          964   36   \n",
       "\n",
       "                                              Title  \\\n",
       "16605                          Go see in the store!   \n",
       "8123   Very cute but harder to wear than i expected   \n",
       "12894                    Nice t, but not super soft   \n",
       "18630                                    The horror   \n",
       "7027                                  Not impressed   \n",
       "...                                             ...   \n",
       "12658                                 Pretty blouse   \n",
       "14099                  Just what i was looking for!   \n",
       "256                 Stylish and understated elegant   \n",
       "17923         Big bold and beautiful but not for me   \n",
       "11661                                      Love it!   \n",
       "\n",
       "                                             Review Text  Rating  \\\n",
       "16605  Online photos do not do this skirt any justice...       5   \n",
       "8123   This top is so cute and i immediately had to p...       4   \n",
       "12894  This shirt has beautiful coloring but the mate...       3   \n",
       "18630  This vest looked so cute online but it's a dis...       1   \n",
       "7027   I'm too tall for this. back goes halfway up my...       2   \n",
       "...                                                  ...     ...   \n",
       "12658  I bought this blouse with the 30% off price- i...       4   \n",
       "14099  This is the perfect lounge/sleep cami! i am 5'...       5   \n",
       "256    I purchased this top in a regular small and su...       5   \n",
       "17923  Lovely print and colors. interior lining was s...       4   \n",
       "11661  Love this jacket!!! it is soooo soft and goes ...       5   \n",
       "\n",
       "       Recommended IND  Positive Feedback Count   Division Name  \\\n",
       "16605                1                        4         General   \n",
       "8123                 1                        1         General   \n",
       "12894                0                        0         General   \n",
       "18630                0                       15         General   \n",
       "7027                 0                        0         General   \n",
       "...                ...                      ...             ...   \n",
       "12658                1                        0         General   \n",
       "14099                1                        0       Initmates   \n",
       "256                  1                        1         General   \n",
       "17923                1                        7  General Petite   \n",
       "11661                1                        0  General Petite   \n",
       "\n",
       "      Department Name Class Name  \n",
       "16605         Bottoms     Skirts  \n",
       "8123             Tops    Blouses  \n",
       "12894            Tops      Knits  \n",
       "18630         Jackets    Jackets  \n",
       "7027             Tops      Knits  \n",
       "...               ...        ...  \n",
       "12658            Tops      Knits  \n",
       "14099        Intimate      Sleep  \n",
       "256              Tops    Blouses  \n",
       "17923            Tops   Sweaters  \n",
       "11661         Jackets    Jackets  \n",
       "\n",
       "[4697 rows x 11 columns]"
      ]
     },
     "metadata": {},
     "output_type": "display_data"
    }
   ],
   "source": [
    "df"
   ]
  },
  {
   "cell_type": "code",
   "execution_count": 17,
   "id": "fe4c712a-ea18-4d1c-9afa-69f8eec5d314",
   "metadata": {
    "tags": []
   },
   "outputs": [],
   "source": [
    "# Pandas code generated by sagemaker_datawrangler\n",
    "output_df = df.copy(deep=True)\n",
    "\n",
    "\n",
    "# Code to Replace with new value for column: Title to resolve warning: Missing values \n",
    "generic_value = 'Other'\n",
    "output_df['Title']=output_df['Title'].fillna(generic_value)\n",
    "\n",
    "\n",
    "\n",
    "# Code to Drop column for column: Unnamed: 0 to resolve warning: ID column \n",
    "output_df=output_df.drop(columns=['Unnamed: 0'])\n",
    "\n",
    "\n",
    "# Code to Drop missing for column: Review Text to resolve warning: Missing values \n",
    "output_df = output_df[output_df['Review Text'].notnull()]\n"
   ]
  },
  {
   "cell_type": "code",
   "execution_count": null,
   "id": "009a9a61-e0c1-48e5-9e6c-8e6ef694fa99",
   "metadata": {
    "jupyter": {
     "source_hidden": true
    },
    "tags": []
   },
   "outputs": [],
   "source": [
    "# Pandas code generated by sagemaker_datawrangler\n",
    "output_df = df.copy(deep=True)\n",
    "\n",
    "\n",
    "# Code to Replace with new value for column: Title to resolve warning: Missing values \n",
    "generic_value = 'Other'\n",
    "output_df['Title']=output_df['Title'].fillna(generic_value)\n",
    "\n",
    "\n",
    "\n",
    "# Code to Drop column for column: Unnamed: 0 to resolve warning: ID column \n",
    "output_df=output_df.drop(columns=['Unnamed: 0'])\n",
    "\n",
    "\n",
    "# Code to Drop missing for column: Review Text to resolve warning: Missing values \n",
    "output_df = output_df[output_df['Review Text'].notnull()]\n",
    "\n",
    "\n",
    "# Code to Drop missing for column: Division Name to resolve warning: Missing values \n",
    "output_df = output_df[output_df['Division Name'].notnull()]\n"
   ]
  },
  {
   "cell_type": "code",
   "execution_count": null,
   "id": "8151bd20-9301-4c7b-98f6-9706066752e0",
   "metadata": {
    "jupyter": {
     "source_hidden": true
    },
    "tags": []
   },
   "outputs": [],
   "source": [
    "# Pandas code generated by sagemaker_datawrangler\n",
    "output_df = df.copy(deep=True)\n",
    "\n",
    "\n",
    "# Code to Drop column for column: Unnamed: 0 to resolve warning: ID column \n",
    "output_df=output_df.drop(columns=['Unnamed: 0'])\n",
    "\n",
    "\n",
    "# Code to Replace with new value for column: Title to resolve warning: Missing values \n",
    "generic_value = 'Other'\n",
    "output_df['Title']=output_df['Title'].fillna(generic_value)\n",
    "\n",
    "\n",
    "\n",
    "# Code to Drop missing for column: Review Text to resolve warning: Missing values \n",
    "output_df = output_df[output_df['Review Text'].notnull()]\n",
    "\n",
    "\n",
    "# Code to Drop missing for column: Division Name to resolve warning: Missing values \n",
    "output_df = output_df[output_df['Division Name'].notnull()]\n"
   ]
  },
  {
   "cell_type": "code",
   "execution_count": 18,
   "id": "21f07ca2",
   "metadata": {},
   "outputs": [
    {
     "data": {
      "text/plain": [
       "(4540, 10)"
      ]
     },
     "execution_count": 18,
     "metadata": {},
     "output_type": "execute_result"
    }
   ],
   "source": [
    "output_df.shape"
   ]
  },
  {
   "cell_type": "code",
   "execution_count": 19,
   "id": "09a6ecda-a906-4a89-b047-545c3c341157",
   "metadata": {
    "tags": []
   },
   "outputs": [
    {
     "data": {
      "application/vnd.jupyter.widget-view+json": {
       "model_id": "c785d02660d541beb6a0b91fa9640ddc"
      },
      "text/plain": [
       "       Clothing ID  Age                                         Title  \\\n",
       "16605         1001   46                          Go see in the store!   \n",
       "8123           833   48  Very cute but harder to wear than i expected   \n",
       "12894          863   44                    Nice t, but not super soft   \n",
       "18630          975   48                                    The horror   \n",
       "7027           862   69                                 Not impressed   \n",
       "...            ...  ...                                           ...   \n",
       "12658          875   44                                 Pretty blouse   \n",
       "14099          686   28                  Just what i was looking for!   \n",
       "256            840   44               Stylish and understated elegant   \n",
       "17923          936   31         Big bold and beautiful but not for me   \n",
       "11661          964   36                                      Love it!   \n",
       "\n",
       "                                             Review Text  Rating  \\\n",
       "16605  Online photos do not do this skirt any justice...       5   \n",
       "8123   This top is so cute and i immediately had to p...       4   \n",
       "12894  This shirt has beautiful coloring but the mate...       3   \n",
       "18630  This vest looked so cute online but it's a dis...       1   \n",
       "7027   I'm too tall for this. back goes halfway up my...       2   \n",
       "...                                                  ...     ...   \n",
       "12658  I bought this blouse with the 30% off price- i...       4   \n",
       "14099  This is the perfect lounge/sleep cami! i am 5'...       5   \n",
       "256    I purchased this top in a regular small and su...       5   \n",
       "17923  Lovely print and colors. interior lining was s...       4   \n",
       "11661  Love this jacket!!! it is soooo soft and goes ...       5   \n",
       "\n",
       "       Recommended IND  Positive Feedback Count   Division Name  \\\n",
       "16605                1                        4         General   \n",
       "8123                 1                        1         General   \n",
       "12894                0                        0         General   \n",
       "18630                0                       15         General   \n",
       "7027                 0                        0         General   \n",
       "...                ...                      ...             ...   \n",
       "12658                1                        0         General   \n",
       "14099                1                        0       Initmates   \n",
       "256                  1                        1         General   \n",
       "17923                1                        7  General Petite   \n",
       "11661                1                        0  General Petite   \n",
       "\n",
       "      Department Name Class Name  \n",
       "16605         Bottoms     Skirts  \n",
       "8123             Tops    Blouses  \n",
       "12894            Tops      Knits  \n",
       "18630         Jackets    Jackets  \n",
       "7027             Tops      Knits  \n",
       "...               ...        ...  \n",
       "12658            Tops      Knits  \n",
       "14099        Intimate      Sleep  \n",
       "256              Tops    Blouses  \n",
       "17923            Tops   Sweaters  \n",
       "11661         Jackets    Jackets  \n",
       "\n",
       "[4540 rows x 10 columns]"
      ]
     },
     "metadata": {},
     "output_type": "display_data"
    }
   ],
   "source": [
    "output_df"
   ]
  },
  {
   "cell_type": "code",
   "execution_count": null,
   "id": "c99aaf5e-d118-403e-8b3b-9ab2c368d806",
   "metadata": {},
   "outputs": [],
   "source": []
  }
 ],
 "metadata": {
  "instance_type": "ml.t3.medium",
  "kernelspec": {
   "display_name": "Python 3 (Data Science)",
   "language": "python",
   "name": "python3__SAGEMAKER_INTERNAL__arn:aws:sagemaker:ap-northeast-2:806072073708:image/datascience-1.0"
  },
  "language_info": {
   "codemirror_mode": {
    "name": "ipython",
    "version": 3
   },
   "file_extension": ".py",
   "mimetype": "text/x-python",
   "name": "python",
   "nbconvert_exporter": "python",
   "pygments_lexer": "ipython3",
   "version": "3.7.10"
  }
 },
 "nbformat": 4,
 "nbformat_minor": 5
}
